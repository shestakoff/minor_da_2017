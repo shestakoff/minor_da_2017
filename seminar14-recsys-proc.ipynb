{
 "cells": [
  {
   "cell_type": "markdown",
   "metadata": {},
   "source": [
    "# Майнор по Анализу Данных, Группа ИАД-2\n",
    "## 24/05/2017  Рекомендательные системы"
   ]
  },
  {
   "cell_type": "code",
   "execution_count": 1,
   "metadata": {
    "collapsed": true
   },
   "outputs": [],
   "source": [
    "import pandas as pd\n",
    "import numpy as np\n",
    "import matplotlib.pyplot as plt\n",
    "\n",
    "%matplotlib inline\n",
    "\n",
    "plt.style.use('ggplot')\n",
    "plt.rcParams['figure.figsize'] = (12,5)\n",
    "\n",
    "# Для кириллицы на графиках\n",
    "font = {'family': 'Verdana',\n",
    "        'weight': 'normal'}\n",
    "plt.rc('font', **font)"
   ]
  },
  {
   "cell_type": "markdown",
   "metadata": {},
   "source": [
    "# Коллаборативная фильтрация"
   ]
  },
  {
   "cell_type": "markdown",
   "metadata": {},
   "source": [
    "Метод коллаборативной фильтрации работает по принципу похожести пользователей (**User-based collaborative filtering**) или похожести товаров (**Item-based collaborative filtering**). "
   ]
  },
  {
   "cell_type": "markdown",
   "metadata": {},
   "source": [
    "Введем обозначения:\n",
    "* $R_{ui}$ - оценка, которую дал пользователь $u$ товару $i$\n",
    "* $\\hat{R}_{ui}$ - прогноз оценки\n",
    "* $s_{uv}$ - похожесть между пользователями $u$ и $v$\n",
    "* $s_{ij}$ - похожесть между товарами $i$ и $j$\n",
    "* $N(u)$ - Множество пользователей, наиболее похожих на $u$\n",
    "* $N(i)$ - Множество товаров, наиболее похожих на $i$"
   ]
  },
  {
   "cell_type": "markdown",
   "metadata": {},
   "source": [
    "Прогноз **user-based collaborative filtering** вычисляется по следующей формуле\n",
    "$$ \\hat{R}_{ui} = \\frac{\\sum_{v \\in N(u)} s_{uv} R_{vi}}{\\sum_{v \\in N(u)} s_{uv}} $$\n",
    "\n",
    "Походесть между пользователями можно вычислить разными способами, например с помощью корреляции или косинусной меры\n",
    "$$ s_{uv} = \\frac{R_u^T R_v}{\\lVert R_u \\rVert_2 \\lVert R_v \\rVert_2}$$\n",
    "Стоит отметить, что при подсчете похожести должны учитываться только те товары, для которых и у $u$ и у $v$ есть какая-то оценка"
   ]
  },
  {
   "cell_type": "markdown",
   "metadata": {},
   "source": [
    "<center><img src='http://comsysto.files.wordpress.com/2013/02/userbased.png' width=700></center>"
   ]
  },
  {
   "cell_type": "markdown",
   "metadata": {},
   "source": [
    "Похожим образом делается оценка с помощью **item-based collaborative filtering**:\n",
    "\n",
    "$$\\hat{R}_{u i} = \\frac{\\sum_{j \\in N(i)} s_{ij} R_{u j}}{\\sum_{j \\in N(i)} s_{ij}}$$"
   ]
  },
  {
   "cell_type": "markdown",
   "metadata": {},
   "source": [
    "<center><img src='http://dataconomy.com/wp-content/uploads/2015/03/Beginners-Guide-Recommender-Systems-Content-Based-Filtering.png' width=350></center>"
   ]
  },
  {
   "cell_type": "markdown",
   "metadata": {},
   "source": [
    "# Рейтинги фильмов"
   ]
  },
  {
   "cell_type": "markdown",
   "metadata": {},
   "source": [
    "* Загрузите данные о рейтингах и фильмах\n",
    "* Разбейте данные на обучение и контроль в пропорции 80/20\n",
    "* Реализуйте функцию расчета попарных схожестей между пользователями\n",
    "* Реализуйте метод расчета рекомендаций на основе $K$ наиболее похожих пользователей. Постройте график зафисимости ошибки MAE от $K$ (1-10)\n",
    "* Выполните нормализацию рейтингов с помощью вычитания средней оценки $\\bar{R}_u$ каждого из пользователей и повторите предыдущий 2 шага. В этом случае предсказание выполняется следующим образом\n",
    "$$ \\hat{R}_{ui} = \\bar{R}_u + \\frac{\\sum_{v \\in N(u)} s_{uv} (R_{vi} - \\bar{R}_v)}{\\sum_{v \\in N(u)} s_{uv}} $$\n",
    "* Перейдите к Item-Based подходу и повторите предыдущие шаги"
   ]
  },
  {
   "cell_type": "code",
   "execution_count": 111,
   "metadata": {
    "collapsed": true
   },
   "outputs": [],
   "source": [
    "filepath = './data/user_ratedmovies.dat'\n",
    "df_rates = pd.read_csv(filepath, sep='\\t')"
   ]
  },
  {
   "cell_type": "code",
   "execution_count": 112,
   "metadata": {
    "collapsed": true
   },
   "outputs": [],
   "source": [
    "filepath = './data/movies.dat'\n",
    "df_movies = pd.read_csv(filepath, sep='\\t', encoding='iso-8859-1')"
   ]
  },
  {
   "cell_type": "code",
   "execution_count": 113,
   "metadata": {
    "collapsed": true
   },
   "outputs": [],
   "source": [
    "movie_counts = df_rates.movieID.value_counts()"
   ]
  },
  {
   "cell_type": "code",
   "execution_count": 114,
   "metadata": {
    "collapsed": true
   },
   "outputs": [],
   "source": [
    "movies_one_watch = movie_counts[movie_counts == 1]"
   ]
  },
  {
   "cell_type": "code",
   "execution_count": 115,
   "metadata": {
    "collapsed": true
   },
   "outputs": [],
   "source": [
    "idx = df_rates.movieID.isin(movies_one_watch.index)\n",
    "df_rates = df_rates.loc[~idx, :]"
   ]
  },
  {
   "cell_type": "code",
   "execution_count": 116,
   "metadata": {},
   "outputs": [
    {
     "data": {
      "text/html": [
       "<div>\n",
       "<table border=\"1\" class=\"dataframe\">\n",
       "  <thead>\n",
       "    <tr style=\"text-align: right;\">\n",
       "      <th></th>\n",
       "      <th>userID</th>\n",
       "      <th>movieID</th>\n",
       "      <th>rating</th>\n",
       "      <th>date_day</th>\n",
       "      <th>date_month</th>\n",
       "      <th>date_year</th>\n",
       "      <th>date_hour</th>\n",
       "      <th>date_minute</th>\n",
       "      <th>date_second</th>\n",
       "    </tr>\n",
       "  </thead>\n",
       "  <tbody>\n",
       "    <tr>\n",
       "      <th>0</th>\n",
       "      <td>75</td>\n",
       "      <td>3</td>\n",
       "      <td>1.0</td>\n",
       "      <td>29</td>\n",
       "      <td>10</td>\n",
       "      <td>2006</td>\n",
       "      <td>23</td>\n",
       "      <td>17</td>\n",
       "      <td>16</td>\n",
       "    </tr>\n",
       "    <tr>\n",
       "      <th>1</th>\n",
       "      <td>75</td>\n",
       "      <td>32</td>\n",
       "      <td>4.5</td>\n",
       "      <td>29</td>\n",
       "      <td>10</td>\n",
       "      <td>2006</td>\n",
       "      <td>23</td>\n",
       "      <td>23</td>\n",
       "      <td>44</td>\n",
       "    </tr>\n",
       "    <tr>\n",
       "      <th>2</th>\n",
       "      <td>75</td>\n",
       "      <td>110</td>\n",
       "      <td>4.0</td>\n",
       "      <td>29</td>\n",
       "      <td>10</td>\n",
       "      <td>2006</td>\n",
       "      <td>23</td>\n",
       "      <td>30</td>\n",
       "      <td>8</td>\n",
       "    </tr>\n",
       "    <tr>\n",
       "      <th>3</th>\n",
       "      <td>75</td>\n",
       "      <td>160</td>\n",
       "      <td>2.0</td>\n",
       "      <td>29</td>\n",
       "      <td>10</td>\n",
       "      <td>2006</td>\n",
       "      <td>23</td>\n",
       "      <td>16</td>\n",
       "      <td>52</td>\n",
       "    </tr>\n",
       "    <tr>\n",
       "      <th>4</th>\n",
       "      <td>75</td>\n",
       "      <td>163</td>\n",
       "      <td>4.0</td>\n",
       "      <td>29</td>\n",
       "      <td>10</td>\n",
       "      <td>2006</td>\n",
       "      <td>23</td>\n",
       "      <td>29</td>\n",
       "      <td>30</td>\n",
       "    </tr>\n",
       "  </tbody>\n",
       "</table>\n",
       "</div>"
      ],
      "text/plain": [
       "   userID  movieID  rating  date_day  date_month  date_year  date_hour  \\\n",
       "0      75        3     1.0        29          10       2006         23   \n",
       "1      75       32     4.5        29          10       2006         23   \n",
       "2      75      110     4.0        29          10       2006         23   \n",
       "3      75      160     2.0        29          10       2006         23   \n",
       "4      75      163     4.0        29          10       2006         23   \n",
       "\n",
       "   date_minute  date_second  \n",
       "0           17           16  \n",
       "1           23           44  \n",
       "2           30            8  \n",
       "3           16           52  \n",
       "4           29           30  "
      ]
     },
     "execution_count": 116,
     "metadata": {},
     "output_type": "execute_result"
    }
   ],
   "source": [
    "df_rates.head()"
   ]
  },
  {
   "cell_type": "markdown",
   "metadata": {},
   "source": [
    "## Перекодируем ID фильмов"
   ]
  },
  {
   "cell_type": "code",
   "execution_count": 117,
   "metadata": {
    "collapsed": true
   },
   "outputs": [],
   "source": [
    "from sklearn.preprocessing import LabelEncoder"
   ]
  },
  {
   "cell_type": "code",
   "execution_count": 118,
   "metadata": {
    "collapsed": true
   },
   "outputs": [],
   "source": [
    "mov_enc = LabelEncoder()\n",
    "mov_enc.fit(df_rates.movieID.values)\n",
    "n_movies = df_rates.movieID.nunique()"
   ]
  },
  {
   "cell_type": "code",
   "execution_count": 119,
   "metadata": {
    "collapsed": true
   },
   "outputs": [],
   "source": [
    "user_enc = LabelEncoder()\n",
    "user_enc.fit(df_rates.userID.values)\n",
    "n_users = df_rates.userID.nunique()"
   ]
  },
  {
   "cell_type": "code",
   "execution_count": 120,
   "metadata": {
    "collapsed": true
   },
   "outputs": [],
   "source": [
    "df_rates.loc[:, 'movieID'] = mov_enc.transform(df_rates.movieID.values)\n",
    "df_rates.loc[:, 'userID'] = user_enc.transform(df_rates.userID.values)"
   ]
  },
  {
   "cell_type": "code",
   "execution_count": 121,
   "metadata": {},
   "outputs": [
    {
     "data": {
      "text/html": [
       "<div>\n",
       "<table border=\"1\" class=\"dataframe\">\n",
       "  <thead>\n",
       "    <tr style=\"text-align: right;\">\n",
       "      <th></th>\n",
       "      <th>userID</th>\n",
       "      <th>movieID</th>\n",
       "      <th>rating</th>\n",
       "      <th>date_day</th>\n",
       "      <th>date_month</th>\n",
       "      <th>date_year</th>\n",
       "      <th>date_hour</th>\n",
       "      <th>date_minute</th>\n",
       "      <th>date_second</th>\n",
       "    </tr>\n",
       "  </thead>\n",
       "  <tbody>\n",
       "    <tr>\n",
       "      <th>0</th>\n",
       "      <td>0</td>\n",
       "      <td>2</td>\n",
       "      <td>1.0</td>\n",
       "      <td>29</td>\n",
       "      <td>10</td>\n",
       "      <td>2006</td>\n",
       "      <td>23</td>\n",
       "      <td>17</td>\n",
       "      <td>16</td>\n",
       "    </tr>\n",
       "    <tr>\n",
       "      <th>1</th>\n",
       "      <td>0</td>\n",
       "      <td>31</td>\n",
       "      <td>4.5</td>\n",
       "      <td>29</td>\n",
       "      <td>10</td>\n",
       "      <td>2006</td>\n",
       "      <td>23</td>\n",
       "      <td>23</td>\n",
       "      <td>44</td>\n",
       "    </tr>\n",
       "    <tr>\n",
       "      <th>2</th>\n",
       "      <td>0</td>\n",
       "      <td>104</td>\n",
       "      <td>4.0</td>\n",
       "      <td>29</td>\n",
       "      <td>10</td>\n",
       "      <td>2006</td>\n",
       "      <td>23</td>\n",
       "      <td>30</td>\n",
       "      <td>8</td>\n",
       "    </tr>\n",
       "    <tr>\n",
       "      <th>3</th>\n",
       "      <td>0</td>\n",
       "      <td>147</td>\n",
       "      <td>2.0</td>\n",
       "      <td>29</td>\n",
       "      <td>10</td>\n",
       "      <td>2006</td>\n",
       "      <td>23</td>\n",
       "      <td>16</td>\n",
       "      <td>52</td>\n",
       "    </tr>\n",
       "    <tr>\n",
       "      <th>4</th>\n",
       "      <td>0</td>\n",
       "      <td>150</td>\n",
       "      <td>4.0</td>\n",
       "      <td>29</td>\n",
       "      <td>10</td>\n",
       "      <td>2006</td>\n",
       "      <td>23</td>\n",
       "      <td>29</td>\n",
       "      <td>30</td>\n",
       "    </tr>\n",
       "  </tbody>\n",
       "</table>\n",
       "</div>"
      ],
      "text/plain": [
       "   userID  movieID  rating  date_day  date_month  date_year  date_hour  \\\n",
       "0       0        2     1.0        29          10       2006         23   \n",
       "1       0       31     4.5        29          10       2006         23   \n",
       "2       0      104     4.0        29          10       2006         23   \n",
       "3       0      147     2.0        29          10       2006         23   \n",
       "4       0      150     4.0        29          10       2006         23   \n",
       "\n",
       "   date_minute  date_second  \n",
       "0           17           16  \n",
       "1           23           44  \n",
       "2           30            8  \n",
       "3           16           52  \n",
       "4           29           30  "
      ]
     },
     "execution_count": 121,
     "metadata": {},
     "output_type": "execute_result"
    }
   ],
   "source": [
    "df_rates.head()"
   ]
  },
  {
   "cell_type": "markdown",
   "metadata": {},
   "source": [
    "## Разбиваем на обучение и контроль"
   ]
  },
  {
   "cell_type": "code",
   "execution_count": 122,
   "metadata": {
    "collapsed": true
   },
   "outputs": [],
   "source": [
    "from sklearn.model_selection import train_test_split"
   ]
  },
  {
   "cell_type": "code",
   "execution_count": 123,
   "metadata": {
    "collapsed": true
   },
   "outputs": [],
   "source": [
    "df_rates_train, df_rates_test = train_test_split(df_rates, \n",
    "                                                 test_size=0.2, \n",
    "                                                 random_state=123)"
   ]
  },
  {
   "cell_type": "code",
   "execution_count": 124,
   "metadata": {},
   "outputs": [
    {
     "data": {
      "text/plain": [
       "(171000, 9)"
      ]
     },
     "execution_count": 124,
     "metadata": {},
     "output_type": "execute_result"
    }
   ],
   "source": [
    "df_rates_test.shape"
   ]
  },
  {
   "cell_type": "code",
   "execution_count": 125,
   "metadata": {},
   "outputs": [
    {
     "data": {
      "text/html": [
       "<div>\n",
       "<table border=\"1\" class=\"dataframe\">\n",
       "  <thead>\n",
       "    <tr style=\"text-align: right;\">\n",
       "      <th></th>\n",
       "      <th>userID</th>\n",
       "      <th>movieID</th>\n",
       "      <th>rating</th>\n",
       "      <th>date_day</th>\n",
       "      <th>date_month</th>\n",
       "      <th>date_year</th>\n",
       "      <th>date_hour</th>\n",
       "      <th>date_minute</th>\n",
       "      <th>date_second</th>\n",
       "    </tr>\n",
       "  </thead>\n",
       "  <tbody>\n",
       "    <tr>\n",
       "      <th>431521</th>\n",
       "      <td>1019</td>\n",
       "      <td>1000</td>\n",
       "      <td>3.0</td>\n",
       "      <td>27</td>\n",
       "      <td>10</td>\n",
       "      <td>2003</td>\n",
       "      <td>19</td>\n",
       "      <td>43</td>\n",
       "      <td>35</td>\n",
       "    </tr>\n",
       "    <tr>\n",
       "      <th>769718</th>\n",
       "      <td>1891</td>\n",
       "      <td>3540</td>\n",
       "      <td>4.5</td>\n",
       "      <td>24</td>\n",
       "      <td>7</td>\n",
       "      <td>2007</td>\n",
       "      <td>3</td>\n",
       "      <td>25</td>\n",
       "      <td>35</td>\n",
       "    </tr>\n",
       "    <tr>\n",
       "      <th>10766</th>\n",
       "      <td>42</td>\n",
       "      <td>357</td>\n",
       "      <td>2.0</td>\n",
       "      <td>2</td>\n",
       "      <td>9</td>\n",
       "      <td>2007</td>\n",
       "      <td>13</td>\n",
       "      <td>0</td>\n",
       "      <td>20</td>\n",
       "    </tr>\n",
       "    <tr>\n",
       "      <th>572429</th>\n",
       "      <td>1362</td>\n",
       "      <td>1346</td>\n",
       "      <td>2.0</td>\n",
       "      <td>17</td>\n",
       "      <td>9</td>\n",
       "      <td>2000</td>\n",
       "      <td>5</td>\n",
       "      <td>47</td>\n",
       "      <td>44</td>\n",
       "    </tr>\n",
       "    <tr>\n",
       "      <th>520032</th>\n",
       "      <td>1238</td>\n",
       "      <td>2239</td>\n",
       "      <td>3.0</td>\n",
       "      <td>4</td>\n",
       "      <td>10</td>\n",
       "      <td>1999</td>\n",
       "      <td>15</td>\n",
       "      <td>20</td>\n",
       "      <td>22</td>\n",
       "    </tr>\n",
       "  </tbody>\n",
       "</table>\n",
       "</div>"
      ],
      "text/plain": [
       "        userID  movieID  rating  date_day  date_month  date_year  date_hour  \\\n",
       "431521    1019     1000     3.0        27          10       2003         19   \n",
       "769718    1891     3540     4.5        24           7       2007          3   \n",
       "10766       42      357     2.0         2           9       2007         13   \n",
       "572429    1362     1346     2.0        17           9       2000          5   \n",
       "520032    1238     2239     3.0         4          10       1999         15   \n",
       "\n",
       "        date_minute  date_second  \n",
       "431521           43           35  \n",
       "769718           25           35  \n",
       "10766             0           20  \n",
       "572429           47           44  \n",
       "520032           20           22  "
      ]
     },
     "execution_count": 125,
     "metadata": {},
     "output_type": "execute_result"
    }
   ],
   "source": [
    "df_rates_test.head()"
   ]
  },
  {
   "cell_type": "markdown",
   "metadata": {},
   "source": [
    "## Делаем матрицу с рейтингами"
   ]
  },
  {
   "cell_type": "code",
   "execution_count": 109,
   "metadata": {},
   "outputs": [
    {
     "data": {
      "text/plain": [
       "True"
      ]
     },
     "execution_count": 109,
     "metadata": {},
     "output_type": "execute_result"
    }
   ],
   "source": [
    "df_rates_test.userID.isin(df_rates_train.userID).all()"
   ]
  },
  {
   "cell_type": "code",
   "execution_count": 110,
   "metadata": {},
   "outputs": [
    {
     "data": {
      "text/plain": [
       "2242    1333\n",
       "336     1291\n",
       "4481    1258\n",
       "278     1242\n",
       "5338    1202\n",
       "299     1170\n",
       "2507    1170\n",
       "451     1162\n",
       "6423    1158\n",
       "2600    1152\n",
       "556     1142\n",
       "3832    1127\n",
       "1093    1098\n",
       "695     1097\n",
       "2414    1094\n",
       "1348    1091\n",
       "244     1069\n",
       "3757    1062\n",
       "1024    1062\n",
       "3152    1052\n",
       "1022    1036\n",
       "5854    1036\n",
       "6162    1021\n",
       "1470    1020\n",
       "49      1011\n",
       "553     1009\n",
       "0       1006\n",
       "1035     997\n",
       "4896     997\n",
       "104      995\n",
       "        ... \n",
       "5781       1\n",
       "7715       1\n",
       "7836       1\n",
       "5510       1\n",
       "7017       1\n",
       "7231       1\n",
       "721        1\n",
       "5480       1\n",
       "3828       1\n",
       "7253       1\n",
       "7360       1\n",
       "9239       1\n",
       "1781       1\n",
       "2556       1\n",
       "6585       1\n",
       "8698       1\n",
       "3144       1\n",
       "6901       1\n",
       "7117       1\n",
       "3899       1\n",
       "3971       1\n",
       "8390       1\n",
       "8407       1\n",
       "4992       1\n",
       "5230       1\n",
       "6131       1\n",
       "7674       1\n",
       "9424       1\n",
       "8471       1\n",
       "9326       1\n",
       "Name: movieID, dtype: int64"
      ]
     },
     "execution_count": 110,
     "metadata": {},
     "output_type": "execute_result"
    }
   ],
   "source": [
    "df_rates_train.movieID.value_counts()"
   ]
  },
  {
   "cell_type": "code",
   "execution_count": 126,
   "metadata": {
    "collapsed": true
   },
   "outputs": [],
   "source": [
    "from scipy.sparse import coo_matrix"
   ]
  },
  {
   "cell_type": "code",
   "execution_count": 127,
   "metadata": {},
   "outputs": [],
   "source": [
    "n_users_train = df_rates.userID.nunique()\n",
    "R_train = coo_matrix((df_rates_train.rating, \n",
    "                     (df_rates_train.userID.values, df_rates_train.movieID.values)),\n",
    "                     shape=(n_users, n_movies))"
   ]
  },
  {
   "cell_type": "code",
   "execution_count": 128,
   "metadata": {},
   "outputs": [
    {
     "data": {
      "text/plain": [
       "(2113, 9507)"
      ]
     },
     "execution_count": 128,
     "metadata": {},
     "output_type": "execute_result"
    }
   ],
   "source": [
    "R_train.shape"
   ]
  },
  {
   "cell_type": "code",
   "execution_count": 129,
   "metadata": {},
   "outputs": [
    {
     "data": {
      "text/plain": [
       "<2113x9507 sparse matrix of type '<type 'numpy.float64'>'\n",
       "\twith 683996 stored elements in COOrdinate format>"
      ]
     },
     "execution_count": 129,
     "metadata": {},
     "output_type": "execute_result"
    }
   ],
   "source": [
    "R_train"
   ]
  },
  {
   "cell_type": "code",
   "execution_count": 130,
   "metadata": {
    "collapsed": true
   },
   "outputs": [],
   "source": [
    "R_train = R_train.toarray()"
   ]
  },
  {
   "cell_type": "code",
   "execution_count": 131,
   "metadata": {},
   "outputs": [
    {
     "data": {
      "text/plain": [
       "array([[ 0. ,  0. ,  1. , ...,  0. ,  0. ,  0. ],\n",
       "       [ 0. ,  0. ,  0. , ...,  0. ,  0. ,  0. ],\n",
       "       [ 0. ,  0. ,  0. , ...,  0. ,  0. ,  0. ],\n",
       "       ..., \n",
       "       [ 0. ,  0. ,  0. , ...,  0. ,  0. ,  0. ],\n",
       "       [ 4.5,  0. ,  2. , ...,  0. ,  0. ,  0. ],\n",
       "       [ 0. ,  0. ,  0. , ...,  0. ,  0. ,  0. ]])"
      ]
     },
     "execution_count": 131,
     "metadata": {},
     "output_type": "execute_result"
    }
   ],
   "source": [
    "R_train"
   ]
  },
  {
   "cell_type": "markdown",
   "metadata": {},
   "source": [
    "## Считаем попарные рейтинги"
   ]
  },
  {
   "cell_type": "code",
   "execution_count": 132,
   "metadata": {
    "collapsed": true
   },
   "outputs": [],
   "source": [
    "from scipy.spatial.distance import cosine\n",
    "from scipy.spatial.distance import pdist\n",
    "from scipy.spatial.distance import squareform\n",
    "from scipy.spatial.distance import correlation\n",
    "from sklearn.metrics import pairwise_distances"
   ]
  },
  {
   "cell_type": "code",
   "execution_count": 70,
   "metadata": {},
   "outputs": [
    {
     "data": {
      "text/plain": [
       "array([[ 0. ,  0. ,  1. , ...,  0. ,  0. ,  0. ],\n",
       "       [ 0. ,  0. ,  0. , ...,  0. ,  0. ,  0. ],\n",
       "       [ 0. ,  0. ,  0. , ...,  0. ,  0. ,  0. ],\n",
       "       ..., \n",
       "       [ 0. ,  0. ,  0. , ...,  0. ,  0. ,  0. ],\n",
       "       [ 4.5,  0. ,  2. , ...,  0. ,  0. ,  0. ],\n",
       "       [ 0. ,  0. ,  0. , ...,  0. ,  0. ,  0. ]])"
      ]
     },
     "execution_count": 70,
     "metadata": {},
     "output_type": "execute_result"
    }
   ],
   "source": [
    "R_train"
   ]
  },
  {
   "cell_type": "code",
   "execution_count": 133,
   "metadata": {
    "collapsed": true
   },
   "outputs": [],
   "source": [
    "def similarity(u, v):\n",
    "    idx = (u != 0) & (v != 0)\n",
    "    if any(idx):\n",
    "        return -cosine(u[idx], v[idx])+2\n",
    "    else:\n",
    "        return 0"
   ]
  },
  {
   "cell_type": "code",
   "execution_count": 134,
   "metadata": {},
   "outputs": [
    {
     "name": "stdout",
     "output_type": "stream",
     "text": [
      "CPU times: user 4min 9s, sys: 2.75 s, total: 4min 12s\n",
      "Wall time: 4min 20s\n"
     ]
    }
   ],
   "source": [
    "%%time\n",
    "D = pdist(R_train, metric=similarity)"
   ]
  },
  {
   "cell_type": "code",
   "execution_count": 135,
   "metadata": {
    "collapsed": true
   },
   "outputs": [],
   "source": [
    "D = squareform(D)"
   ]
  },
  {
   "cell_type": "code",
   "execution_count": 136,
   "metadata": {},
   "outputs": [
    {
     "data": {
      "text/plain": [
       "<matplotlib.image.AxesImage at 0x114d9d5d0>"
      ]
     },
     "execution_count": 136,
     "metadata": {},
     "output_type": "execute_result"
    },
    {
     "data": {
      "image/png": "[encoded data removed]",
      "text/plain": [
       "<matplotlib.figure.Figure at 0x117482910>"
      ]
     },
     "metadata": {},
     "output_type": "display_data"
    }
   ],
   "source": [
    "plt.imshow(D)"
   ]
  },
  {
   "cell_type": "markdown",
   "metadata": {},
   "source": [
    "## Делаем рекомендации"
   ]
  },
  {
   "cell_type": "code",
   "execution_count": 137,
   "metadata": {},
   "outputs": [
    {
     "data": {
      "text/html": [
       "<div>\n",
       "<table border=\"1\" class=\"dataframe\">\n",
       "  <thead>\n",
       "    <tr style=\"text-align: right;\">\n",
       "      <th></th>\n",
       "      <th>userID</th>\n",
       "      <th>movieID</th>\n",
       "      <th>rating</th>\n",
       "      <th>date_day</th>\n",
       "      <th>date_month</th>\n",
       "      <th>date_year</th>\n",
       "      <th>date_hour</th>\n",
       "      <th>date_minute</th>\n",
       "      <th>date_second</th>\n",
       "    </tr>\n",
       "  </thead>\n",
       "  <tbody>\n",
       "    <tr>\n",
       "      <th>431521</th>\n",
       "      <td>1019</td>\n",
       "      <td>1000</td>\n",
       "      <td>3.0</td>\n",
       "      <td>27</td>\n",
       "      <td>10</td>\n",
       "      <td>2003</td>\n",
       "      <td>19</td>\n",
       "      <td>43</td>\n",
       "      <td>35</td>\n",
       "    </tr>\n",
       "    <tr>\n",
       "      <th>769718</th>\n",
       "      <td>1891</td>\n",
       "      <td>3540</td>\n",
       "      <td>4.5</td>\n",
       "      <td>24</td>\n",
       "      <td>7</td>\n",
       "      <td>2007</td>\n",
       "      <td>3</td>\n",
       "      <td>25</td>\n",
       "      <td>35</td>\n",
       "    </tr>\n",
       "    <tr>\n",
       "      <th>10766</th>\n",
       "      <td>42</td>\n",
       "      <td>357</td>\n",
       "      <td>2.0</td>\n",
       "      <td>2</td>\n",
       "      <td>9</td>\n",
       "      <td>2007</td>\n",
       "      <td>13</td>\n",
       "      <td>0</td>\n",
       "      <td>20</td>\n",
       "    </tr>\n",
       "    <tr>\n",
       "      <th>572429</th>\n",
       "      <td>1362</td>\n",
       "      <td>1346</td>\n",
       "      <td>2.0</td>\n",
       "      <td>17</td>\n",
       "      <td>9</td>\n",
       "      <td>2000</td>\n",
       "      <td>5</td>\n",
       "      <td>47</td>\n",
       "      <td>44</td>\n",
       "    </tr>\n",
       "    <tr>\n",
       "      <th>520032</th>\n",
       "      <td>1238</td>\n",
       "      <td>2239</td>\n",
       "      <td>3.0</td>\n",
       "      <td>4</td>\n",
       "      <td>10</td>\n",
       "      <td>1999</td>\n",
       "      <td>15</td>\n",
       "      <td>20</td>\n",
       "      <td>22</td>\n",
       "    </tr>\n",
       "  </tbody>\n",
       "</table>\n",
       "</div>"
      ],
      "text/plain": [
       "        userID  movieID  rating  date_day  date_month  date_year  date_hour  \\\n",
       "431521    1019     1000     3.0        27          10       2003         19   \n",
       "769718    1891     3540     4.5        24           7       2007          3   \n",
       "10766       42      357     2.0         2           9       2007         13   \n",
       "572429    1362     1346     2.0        17           9       2000          5   \n",
       "520032    1238     2239     3.0         4          10       1999         15   \n",
       "\n",
       "        date_minute  date_second  \n",
       "431521           43           35  \n",
       "769718           25           35  \n",
       "10766             0           20  \n",
       "572429           47           44  \n",
       "520032           20           22  "
      ]
     },
     "execution_count": 137,
     "metadata": {},
     "output_type": "execute_result"
    }
   ],
   "source": [
    "df_rates_test.head()"
   ]
  },
  {
   "cell_type": "code",
   "execution_count": 138,
   "metadata": {
    "collapsed": true
   },
   "outputs": [],
   "source": [
    "from tqdm import tqdm_notebook"
   ]
  },
  {
   "cell_type": "code",
   "execution_count": 191,
   "metadata": {},
   "outputs": [],
   "source": [
    "watched_users = R_train[:, int(r['movieID'])]"
   ]
  },
  {
   "cell_type": "code",
   "execution_count": 196,
   "metadata": {},
   "outputs": [
    {
     "data": {
      "application/vnd.jupyter.widget-view+json": {
       "model_id": "0d5c5381b231420c8bf0a1e57b006c47"
      }
     },
     "metadata": {},
     "output_type": "display_data"
    },
    {
     "name": "stderr",
     "output_type": "stream",
     "text": [
      "/Users/andrey.shestakov/anaconda2/lib/python2.7/site-packages/ipykernel/__main__.py:14: RuntimeWarning: invalid value encountered in double_scalars\n"
     ]
    },
    {
     "name": "stdout",
     "output_type": "stream",
     "text": [
      "\n"
     ]
    }
   ],
   "source": [
    "predicted_ratings = []\n",
    "\n",
    "for i, r in tqdm_notebook(df_rates_test.iterrows()):\n",
    "    watched_users = np.where(R_train[:, int(r['movieID'])])[0]\n",
    "    sim = D[int(r['userID']), watched_users]\n",
    "    sorted_idx = np.argsort(sim)\n",
    "    for k in range(1, 11):\n",
    "        \n",
    "        ratings = R_train[watched_users[sorted_idx[-k:]], int(r['movieID'])]\n",
    "        \n",
    "        sim_k = sim[sorted_idx[-k:]]\n",
    "        \n",
    "        prediction = ratings.dot(sim_k)/(sim_k.sum()) \n",
    "\n",
    "        predicted_ratings.append({'userID': r['userID'],\n",
    "                                  'movieID': r['movieID'],\n",
    "                                  'prediction': prediction,\n",
    "                                  'k': k})"
   ]
  },
  {
   "cell_type": "code",
   "execution_count": 197,
   "metadata": {
    "collapsed": true
   },
   "outputs": [],
   "source": [
    "df_pred = pd.DataFrame.from_dict(predicted_ratings)"
   ]
  },
  {
   "cell_type": "code",
   "execution_count": 200,
   "metadata": {},
   "outputs": [],
   "source": [
    "df_pred = df_pred.set_index(['movieID', 'userID', 'k'])"
   ]
  },
  {
   "cell_type": "code",
   "execution_count": 201,
   "metadata": {},
   "outputs": [
    {
     "data": {
      "text/html": [
       "<div>\n",
       "<table border=\"1\" class=\"dataframe\">\n",
       "  <thead>\n",
       "    <tr style=\"text-align: right;\">\n",
       "      <th></th>\n",
       "      <th></th>\n",
       "      <th></th>\n",
       "      <th>prediction</th>\n",
       "    </tr>\n",
       "    <tr>\n",
       "      <th>movieID</th>\n",
       "      <th>userID</th>\n",
       "      <th>k</th>\n",
       "      <th></th>\n",
       "    </tr>\n",
       "  </thead>\n",
       "  <tbody>\n",
       "    <tr>\n",
       "      <th rowspan=\"5\" valign=\"top\">1000.0</th>\n",
       "      <th rowspan=\"5\" valign=\"top\">1019.0</th>\n",
       "      <th>1</th>\n",
       "      <td>2.500000</td>\n",
       "    </tr>\n",
       "    <tr>\n",
       "      <th>2</th>\n",
       "      <td>3.499850</td>\n",
       "    </tr>\n",
       "    <tr>\n",
       "      <th>3</th>\n",
       "      <td>3.833018</td>\n",
       "    </tr>\n",
       "    <tr>\n",
       "      <th>4</th>\n",
       "      <td>4.124560</td>\n",
       "    </tr>\n",
       "    <tr>\n",
       "      <th>5</th>\n",
       "      <td>4.099670</td>\n",
       "    </tr>\n",
       "  </tbody>\n",
       "</table>\n",
       "</div>"
      ],
      "text/plain": [
       "                  prediction\n",
       "movieID userID k            \n",
       "1000.0  1019.0 1    2.500000\n",
       "               2    3.499850\n",
       "               3    3.833018\n",
       "               4    4.124560\n",
       "               5    4.099670"
      ]
     },
     "execution_count": 201,
     "metadata": {},
     "output_type": "execute_result"
    }
   ],
   "source": [
    "df_pred.head()"
   ]
  },
  {
   "cell_type": "code",
   "execution_count": 205,
   "metadata": {},
   "outputs": [],
   "source": [
    "df_rates_test = df_rates_test.set_index(['movieID', 'userID'])"
   ]
  },
  {
   "cell_type": "code",
   "execution_count": 207,
   "metadata": {},
   "outputs": [
    {
     "data": {
      "text/html": [
       "<div>\n",
       "<table border=\"1\" class=\"dataframe\">\n",
       "  <thead>\n",
       "    <tr style=\"text-align: right;\">\n",
       "      <th></th>\n",
       "      <th></th>\n",
       "      <th>rating</th>\n",
       "      <th>date_day</th>\n",
       "      <th>date_month</th>\n",
       "      <th>date_year</th>\n",
       "      <th>date_hour</th>\n",
       "      <th>date_minute</th>\n",
       "      <th>date_second</th>\n",
       "    </tr>\n",
       "    <tr>\n",
       "      <th>movieID</th>\n",
       "      <th>userID</th>\n",
       "      <th></th>\n",
       "      <th></th>\n",
       "      <th></th>\n",
       "      <th></th>\n",
       "      <th></th>\n",
       "      <th></th>\n",
       "      <th></th>\n",
       "    </tr>\n",
       "  </thead>\n",
       "  <tbody>\n",
       "    <tr>\n",
       "      <th>1000</th>\n",
       "      <th>1019</th>\n",
       "      <td>3.0</td>\n",
       "      <td>27</td>\n",
       "      <td>10</td>\n",
       "      <td>2003</td>\n",
       "      <td>19</td>\n",
       "      <td>43</td>\n",
       "      <td>35</td>\n",
       "    </tr>\n",
       "    <tr>\n",
       "      <th>3540</th>\n",
       "      <th>1891</th>\n",
       "      <td>4.5</td>\n",
       "      <td>24</td>\n",
       "      <td>7</td>\n",
       "      <td>2007</td>\n",
       "      <td>3</td>\n",
       "      <td>25</td>\n",
       "      <td>35</td>\n",
       "    </tr>\n",
       "    <tr>\n",
       "      <th>357</th>\n",
       "      <th>42</th>\n",
       "      <td>2.0</td>\n",
       "      <td>2</td>\n",
       "      <td>9</td>\n",
       "      <td>2007</td>\n",
       "      <td>13</td>\n",
       "      <td>0</td>\n",
       "      <td>20</td>\n",
       "    </tr>\n",
       "    <tr>\n",
       "      <th>1346</th>\n",
       "      <th>1362</th>\n",
       "      <td>2.0</td>\n",
       "      <td>17</td>\n",
       "      <td>9</td>\n",
       "      <td>2000</td>\n",
       "      <td>5</td>\n",
       "      <td>47</td>\n",
       "      <td>44</td>\n",
       "    </tr>\n",
       "    <tr>\n",
       "      <th>2239</th>\n",
       "      <th>1238</th>\n",
       "      <td>3.0</td>\n",
       "      <td>4</td>\n",
       "      <td>10</td>\n",
       "      <td>1999</td>\n",
       "      <td>15</td>\n",
       "      <td>20</td>\n",
       "      <td>22</td>\n",
       "    </tr>\n",
       "  </tbody>\n",
       "</table>\n",
       "</div>"
      ],
      "text/plain": [
       "                rating  date_day  date_month  date_year  date_hour  \\\n",
       "movieID userID                                                       \n",
       "1000    1019       3.0        27          10       2003         19   \n",
       "3540    1891       4.5        24           7       2007          3   \n",
       "357     42         2.0         2           9       2007         13   \n",
       "1346    1362       2.0        17           9       2000          5   \n",
       "2239    1238       3.0         4          10       1999         15   \n",
       "\n",
       "                date_minute  date_second  \n",
       "movieID userID                            \n",
       "1000    1019             43           35  \n",
       "3540    1891             25           35  \n",
       "357     42                0           20  \n",
       "1346    1362             47           44  \n",
       "2239    1238             20           22  "
      ]
     },
     "execution_count": 207,
     "metadata": {},
     "output_type": "execute_result"
    }
   ],
   "source": [
    "df_rates_test.head()"
   ]
  },
  {
   "cell_type": "code",
   "execution_count": 225,
   "metadata": {},
   "outputs": [],
   "source": [
    "df_pred_unstack = df_pred.unstack()"
   ]
  },
  {
   "cell_type": "code",
   "execution_count": 228,
   "metadata": {},
   "outputs": [
    {
     "data": {
      "text/plain": [
       "rating            2.0\n",
       "date_day          2.0\n",
       "date_month        9.0\n",
       "date_year      2007.0\n",
       "date_hour        13.0\n",
       "date_minute       0.0\n",
       "date_second      20.0\n",
       "Name: (357, 42), dtype: float64"
      ]
     },
     "execution_count": 228,
     "metadata": {},
     "output_type": "execute_result"
    }
   ],
   "source": [
    "df_rates_test.loc[(357, 42)]"
   ]
  },
  {
   "cell_type": "code",
   "execution_count": 229,
   "metadata": {},
   "outputs": [
    {
     "data": {
      "text/plain": [
       "            k \n",
       "prediction  1     4.500000\n",
       "            2     4.500000\n",
       "            3     4.333383\n",
       "            4     3.875386\n",
       "            5     3.700542\n",
       "            6     3.584049\n",
       "            7     3.429518\n",
       "            8     3.500681\n",
       "            9     3.500606\n",
       "            10    3.550435\n",
       "Name: (357.0, 42.0), dtype: float64"
      ]
     },
     "execution_count": 229,
     "metadata": {},
     "output_type": "execute_result"
    }
   ],
   "source": [
    "df_pred_unstack.loc[(357, 42), :]"
   ]
  },
  {
   "cell_type": "code",
   "execution_count": null,
   "metadata": {
    "collapsed": true
   },
   "outputs": [],
   "source": []
  }
 ],
 "metadata": {
  "anaconda-cloud": {},
  "kernelspec": {
   "display_name": "Python [conda root]",
   "language": "python",
   "name": "conda-root-py"
  },
  "language_info": {
   "codemirror_mode": {
    "name": "ipython",
    "version": 2
   },
   "file_extension": ".py",
   "mimetype": "text/x-python",
   "name": "python",
   "nbconvert_exporter": "python",
   "pygments_lexer": "ipython2",
   "version": "2.7.13"
  },
  "toc": {
   "colors": {
    "hover_highlight": "#DAA520",
    "navigate_num": "#000000",
    "navigate_text": "#333333",
    "running_highlight": "#FF0000",
    "selected_highlight": "#FFD700",
    "sidebar_border": "#EEEEEE",
    "wrapper_background": "#FFFFFF"
   },
   "moveMenuLeft": true,
   "nav_menu": {
    "height": "87px",
    "width": "253px"
   },
   "navigate_menu": true,
   "number_sections": false,
   "sideBar": true,
   "threshold": 4,
   "toc_cell": false,
   "toc_section_display": "block",
   "toc_window_display": false,
   "widenNotebook": false
  }
 },
 "nbformat": 4,
 "nbformat_minor": 2
}
