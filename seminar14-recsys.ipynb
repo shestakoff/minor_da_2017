{
 "cells": [
  {
   "cell_type": "markdown",
   "metadata": {},
   "source": [
    "# Майнор по Анализу Данных, Группа ИАД-2\n",
    "## 24/05/2017  Рекомендательные системы"
   ]
  },
  {
   "cell_type": "code",
   "execution_count": null,
   "metadata": {
    "collapsed": true
   },
   "outputs": [],
   "source": [
    "import pandas as pd\n",
    "import numpy as np\n",
    "import matplotlib.pyplot as plt\n",
    "\n",
    "%matplotlib inline\n",
    "\n",
    "plt.style.use('ggplot')\n",
    "plt.rcParams['figure.figsize'] = (12,5)\n",
    "\n",
    "# Для кириллицы на графиках\n",
    "font = {'family': 'Verdana',\n",
    "        'weight': 'normal'}\n",
    "plt.rc('font', **font)"
   ]
  },
  {
   "cell_type": "markdown",
   "metadata": {},
   "source": [
    "# Коллаборативная фильтрация"
   ]
  },
  {
   "cell_type": "markdown",
   "metadata": {},
   "source": [
    "Метод коллаборативной фильтрации работает по принципу похожести пользователей (**User-based collaborative filtering**) или похожести товаров (**Item-based collaborative filtering**). "
   ]
  },
  {
   "cell_type": "markdown",
   "metadata": {},
   "source": [
    "Введем обозначения:\n",
    "* $R_{ui}$ - оценка, которую дал пользователь $u$ товару $i$\n",
    "* $\\hat{R}_{ui}$ - прогноз оценки\n",
    "* $s_{uv}$ - похожесть между пользователями $u$ и $v$\n",
    "* $s_{ij}$ - похожесть между товарами $i$ и $j$\n",
    "* $N(u)$ - Множество пользователей, наиболее похожих на $u$\n",
    "* $N(i)$ - Множество товаров, наиболее похожих на $i$"
   ]
  },
  {
   "cell_type": "markdown",
   "metadata": {},
   "source": [
    "Прогноз **user-based collaborative filtering** вычисляется по следующей формуле\n",
    "$$ \\hat{R}_{ui} = \\frac{\\sum_{v \\in N(u)} s_{uv} R_{vi}}{\\sum_{v \\in N(u)} s_{uv}} $$\n",
    "\n",
    "Походесть между пользователями можно вычислить разными способами, например с помощью корреляции или косинусной меры\n",
    "$$ s_{uv} = \\frac{R_u^T R_v}{\\lVert R_u \\rVert_2 \\lVert R_v \\rVert_2}$$\n",
    "Стоит отметить, что при подсчете похожести должны учитываться только те товары, для которых и у $u$ и у $v$ есть какая-то оценка"
   ]
  },
  {
   "cell_type": "markdown",
   "metadata": {},
   "source": [
    "<center><img src='http://comsysto.files.wordpress.com/2013/02/userbased.png' width=700></center>"
   ]
  },
  {
   "cell_type": "markdown",
   "metadata": {},
   "source": [
    "Похожим образом делается оценка с помощью **item-based collaborative filtering**:\n",
    "\n",
    "$$\\hat{R}_{u i} = \\frac{\\sum_{j \\in N(i)} s_{ij} R_{u j}}{\\sum_{j \\in N(i)} s_{ij}}$$"
   ]
  },
  {
   "cell_type": "markdown",
   "metadata": {},
   "source": [
    "<center><img src='http://dataconomy.com/wp-content/uploads/2015/03/Beginners-Guide-Recommender-Systems-Content-Based-Filtering.png' width=350></center>"
   ]
  },
  {
   "cell_type": "markdown",
   "metadata": {},
   "source": [
    "# Рейтинги фильмов"
   ]
  },
  {
   "cell_type": "markdown",
   "metadata": {},
   "source": [
    "* Загрузите данные о рейтингах и фильмах\n",
    "* Разбейте данные на обучение и контроль в пропорции 80/20\n",
    "* Реализуйте функцию расчета попарных схожестей между пользователями\n",
    "* Реализуйте метод расчета рекомендаций на основе $K$ наиболее похожих пользователей. Постройте график зафисимости ошибки MAE от $K$ (1-10)\n",
    "* Выполните нормализацию рейтингов с помощью вычитания средней оценки $\\bar{R}_u$ каждого из пользователей и повторите предыдущий 2 шага. В этом случае предсказание выполняется следующим образом\n",
    "$$ \\hat{R}_{ui} = \\bar{R}_u + \\frac{\\sum_{v \\in N(u)} s_{uv} (R_{vi} - \\bar{R}_v)}{\\sum_{v \\in N(u)} s_{uv}} $$\n",
    "* Перейдите к Item-Based подходу и повторите предыдущие шаги"
   ]
  },
  {
   "cell_type": "code",
   "execution_count": null,
   "metadata": {
    "collapsed": true
   },
   "outputs": [],
   "source": [
    "filepath = './data/user_ratedmovies.dat'\n",
    "df_rates = pd.read_csv(filepath, sep='\\t')"
   ]
  },
  {
   "cell_type": "code",
   "execution_count": null,
   "metadata": {
    "collapsed": true
   },
   "outputs": [],
   "source": [
    "filepath = './data/movies.dat'\n",
    "df_movies = pd.read_csv(filepath, sep='\\t')"
   ]
  },
  {
   "cell_type": "code",
   "execution_count": null,
   "metadata": {
    "collapsed": true
   },
   "outputs": [],
   "source": [
    "## Your Code Here"
   ]
  },
  {
   "cell_type": "code",
   "execution_count": null,
   "metadata": {
    "collapsed": true
   },
   "outputs": [],
   "source": []
  }
 ],
 "metadata": {
  "anaconda-cloud": {},
  "kernelspec": {
   "display_name": "Python [conda root]",
   "language": "python",
   "name": "conda-root-py"
  },
  "language_info": {
   "codemirror_mode": {
    "name": "ipython",
    "version": 2
   },
   "file_extension": ".py",
   "mimetype": "text/x-python",
   "name": "python",
   "nbconvert_exporter": "python",
   "pygments_lexer": "ipython2",
   "version": "2.7.13"
  },
  "toc": {
   "colors": {
    "hover_highlight": "#DAA520",
    "navigate_num": "#000000",
    "navigate_text": "#333333",
    "running_highlight": "#FF0000",
    "selected_highlight": "#FFD700",
    "sidebar_border": "#EEEEEE",
    "wrapper_background": "#FFFFFF"
   },
   "moveMenuLeft": true,
   "nav_menu": {
    "height": "87px",
    "width": "253px"
   },
   "navigate_menu": true,
   "number_sections": false,
   "sideBar": true,
   "threshold": 4,
   "toc_cell": false,
   "toc_section_display": "block",
   "toc_window_display": true,
   "widenNotebook": false
  }
 },
 "nbformat": 4,
 "nbformat_minor": 2
}
