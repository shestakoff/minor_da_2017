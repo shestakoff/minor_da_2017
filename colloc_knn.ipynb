{
 "cells": [
  {
   "cell_type": "markdown",
   "metadata": {},
   "source": [
    "# Примеры задач/вопросов по k-NN"
   ]
  },
  {
   "cell_type": "markdown",
   "metadata": {},
   "source": [
    "### Задача 1\n",
    "Пусть на плоскости дано два объекта двух разных классов. <br/>\n",
    "Покажите, что если выполнять классификацию методом 1-NN с евклидовым расстоянием, то разделяющей границей между классами будет прямая линия."
   ]
  },
  {
   "cell_type": "markdown",
   "metadata": {},
   "source": [
    "### Задача 2\n",
    "\n",
    "Пусть даны следующие точки в одномерном пространстве:\n",
    "$$X = [1,2,4,8,16,32]$$\n",
    "с соответствующими метками классов:\n",
    "$$y = [1,2,3,4,5,6]$$\n",
    "\n",
    "Обозначим через $x^*$ объект, для которого необходимо выполнить классификацию, а через $a(x)$ - алгоритм, в соответствии с которым выполняется классификация.\n",
    "\n",
    "Найдите и выпишите границы классов, если $a(x)$ это\n",
    "1. 1-NN\n",
    "2. 2-NN\n",
    "3. 2-NN, с весами обратно пропорциональными расстоянию до ближайших соседей\n",
    "4. 3-NN\n",
    "\n",
    "Для всех $a(x)$ мера близости - евклидова"
   ]
  },
  {
   "cell_type": "markdown",
   "metadata": {},
   "source": [
    "### Задача 3\n",
    "Перечислите все числовые гиперпараметры метода k-NN и определите как они влияют на переобучение/недообучение"
   ]
  },
  {
   "cell_type": "markdown",
   "metadata": {},
   "source": [
    "### Задача 4\n",
    "По графику ниже выполните регрессию точки с координатой в $x=3.5$ с помощью взвешенного метода k-NN, где $k=3$, расстояние - евклидово, а вес $i$-го ближайшего соседа определяется как\n",
    "$$w_i = \\frac{k - i + 1 }{ k }$$."
   ]
  },
  {
   "cell_type": "code",
   "execution_count": 9,
   "metadata": {
    "collapsed": false
   },
   "outputs": [
    {
     "data": {
      "image/png": "[encoded data removed]",
      "text/plain": [
       "<matplotlib.figure.Figure at 0x1061a6590>"
      ]
     },
     "metadata": {},
     "output_type": "display_data"
    }
   ],
   "source": [
    "plt.show()"
   ]
  },
  {
   "cell_type": "markdown",
   "metadata": {},
   "source": [
    "### Задача 5\n",
    "\n",
    "Оцените вычислительную сложность предсказания с помощью метода $k$-NN по данным с $N$ объектами и $D$ признаками"
   ]
  }
 ],
 "metadata": {
  "anaconda-cloud": {},
  "kernelspec": {
   "display_name": "Python [conda root]",
   "language": "python",
   "name": "conda-root-py"
  },
  "language_info": {
   "codemirror_mode": {
    "name": "ipython",
    "version": 2
   },
   "file_extension": ".py",
   "mimetype": "text/x-python",
   "name": "python",
   "nbconvert_exporter": "python",
   "pygments_lexer": "ipython2",
   "version": "2.7.12"
  },
  "nav_menu": {},
  "toc": {
   "navigate_menu": true,
   "number_sections": false,
   "sideBar": true,
   "threshold": 6,
   "toc_cell": false,
   "toc_section_display": "block",
   "toc_window_display": true
  }
 },
 "nbformat": 4,
 "nbformat_minor": 2
}
